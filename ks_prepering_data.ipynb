{
 "cells": [
  {
   "cell_type": "code",
   "execution_count": 4,
   "metadata": {},
   "outputs": [],
   "source": [
    "# Importing Pandas and Numpy library and importing csv file\n",
    "import pandas as pd\n",
    "import numpy as np\n",
    "import matplotlib.pyplot as plt\n",
    "\n",
    "df = pd.read_csv(\"ks_data/ks_projects_201801.csv\")"
   ]
  },
  {
   "cell_type": "code",
   "execution_count": 5,
   "metadata": {},
   "outputs": [
    {
     "name": "stdout",
     "output_type": "stream",
     "text": [
      "<class 'pandas.core.frame.DataFrame'>\n",
      "RangeIndex: 378661 entries, 0 to 378660\n",
      "Data columns (total 15 columns):\n",
      "ID                  378661 non-null int64\n",
      "name                378657 non-null object\n",
      "category            378661 non-null object\n",
      "main_category       378661 non-null object\n",
      "currency            378661 non-null object\n",
      "deadline            378661 non-null object\n",
      "goal                378661 non-null float64\n",
      "launched            378661 non-null object\n",
      "pledged             378661 non-null float64\n",
      "state               378661 non-null object\n",
      "backers             378661 non-null int64\n",
      "country             378661 non-null object\n",
      "usd pledged         374864 non-null float64\n",
      "usd_pledged_real    378661 non-null float64\n",
      "usd_goal_real       378661 non-null float64\n",
      "dtypes: float64(5), int64(2), object(8)\n",
      "memory usage: 43.3+ MB\n"
     ]
    }
   ],
   "source": [
    "# Checking shape of DataFrame\n",
    "df.info()"
   ]
  },
  {
   "cell_type": "code",
   "execution_count": 6,
   "metadata": {},
   "outputs": [],
   "source": [
    "# Formatting the ID column as string\n",
    "df.ID = df.ID.apply(lambda id: str(int(id)))"
   ]
  },
  {
   "cell_type": "code",
   "execution_count": 7,
   "metadata": {},
   "outputs": [],
   "source": [
    "# Replace missing values with a \"No name\"\n",
    "df[\"name\"].fillna(\"No name\", inplace = True) "
   ]
  },
  {
   "cell_type": "code",
   "execution_count": 8,
   "metadata": {},
   "outputs": [
    {
     "data": {
      "text/plain": [
       "(0   2015-08-11 12:12:28\n",
       " Name: launched, dtype: datetime64[ns], 0   2015-10-09\n",
       " Name: deadline, dtype: datetime64[ns])"
      ]
     },
     "execution_count": 8,
     "metadata": {},
     "output_type": "execute_result"
    }
   ],
   "source": [
    "# Formatting the date time 'deadline' and 'launched' columns\n",
    "df.launched = df.launched.apply(np.datetime64)\n",
    "df.deadline = df.deadline.apply(np.datetime64)\n",
    "\n",
    "df.launched.head(1), df.deadline.head(1)"
   ]
  },
  {
   "cell_type": "code",
   "execution_count": 9,
   "metadata": {},
   "outputs": [
    {
     "data": {
      "text/plain": [
       "0        Tuesday\n",
       "1       Saturday\n",
       "2       Saturday\n",
       "3       Saturday\n",
       "4       Saturday\n",
       "          ...   \n",
       "6995     Tuesday\n",
       "6996      Friday\n",
       "6997    Saturday\n",
       "6998    Saturday\n",
       "6999      Monday\n",
       "Name: launched_week_day, Length: 7000, dtype: object"
      ]
     },
     "execution_count": 9,
     "metadata": {},
     "output_type": "execute_result"
    }
   ],
   "source": [
    "# Creating the first column \"launched_week_day\"\n",
    "df['launched_week_day'] = df.launched.map(lambda day: day.day_name())\n",
    "df.launched_week_day.head(7000)"
   ]
  },
  {
   "cell_type": "code",
   "execution_count": 10,
   "metadata": {},
   "outputs": [
    {
     "data": {
      "text/plain": [
       "Tuesday      77307\n",
       "Wednesday    67438\n",
       "Monday       61228\n",
       "Thursday     60596\n",
       "Friday       58327\n",
       "Saturday     32717\n",
       "Sunday       21048\n",
       "Name: launched_week_day, dtype: int64"
      ]
     },
     "execution_count": 10,
     "metadata": {},
     "output_type": "execute_result"
    }
   ],
   "source": [
    "df_launched_week_day = df[\"launched_week_day\"].value_counts()\n",
    "df_launched_week_day"
   ]
  },
  {
   "cell_type": "code",
   "execution_count": 11,
   "metadata": {},
   "outputs": [
    {
     "data": {
      "image/png": "[encoded data removed]",
      "text/plain": [
       "<Figure size 432x288 with 1 Axes>"
      ]
     },
     "metadata": {
      "needs_background": "light"
     },
     "output_type": "display_data"
    }
   ],
   "source": [
    "#bar graph\n",
    "plt.bar(df[\"launched_week_day\"].unique(),df[\"launched_week_day\"].value_counts())\n",
    "\n",
    "#xticks \n",
    "plt.xticks(rotation=70) \n",
    "\n",
    "#x-axis labels \n",
    "plt.xlabel('launched_week_day') \n",
    "\n",
    "#y-axis labels \n",
    "plt.ylabel('Quantity') \n",
    "\n",
    "#plot title \n",
    "plt.title('launched_week_day') \n",
    "\n",
    "#save plot \n",
    "plt.savefig('C:\\\\Users\\\\daszm\\\\jupiter\\\\ks_projects_2018\\\\ks_diagrams\\\\matplotlib_plotting_5.png',dpi=300,bbox_inches='tight') \n",
    "\n",
    "#display \n",
    "plt.show();"
   ]
  },
  {
   "cell_type": "code",
   "execution_count": 12,
   "metadata": {},
   "outputs": [
    {
     "data": {
      "text/plain": [
       "0   58 days 11:47:32\n",
       "1   59 days 19:16:03\n",
       "2   44 days 23:39:10\n",
       "3   29 days 20:35:49\n",
       "4   55 days 15:24:57\n",
       "5   34 days 10:21:33\n",
       "6   19 days 05:29:16\n",
       "7   44 days 03:54:48\n",
       "8   34 days 05:45:17\n",
       "9   29 days 02:04:12\n",
       "Name: duration, dtype: timedelta64[ns]"
      ]
     },
     "execution_count": 12,
     "metadata": {},
     "output_type": "execute_result"
    }
   ],
   "source": [
    "# creating the second column \"duration\"\n",
    "df[\"duration\"] = df.deadline - df.launched\n",
    "df.duration.head(10)"
   ]
  },
  {
   "cell_type": "code",
   "execution_count": 16,
   "metadata": {},
   "outputs": [
    {
     "data": {
      "text/plain": [
       "0    58\n",
       "1    59\n",
       "2    44\n",
       "3    29\n",
       "4    55\n",
       "5    34\n",
       "6    19\n",
       "7    44\n",
       "8    34\n",
       "9    29\n",
       "Name: duration, dtype: int64"
      ]
     },
     "execution_count": 16,
     "metadata": {},
     "output_type": "execute_result"
    }
   ],
   "source": [
    "# Calculating the \"absolute value\" of \"duration\" column and converting the \"time\" to \"days\"\n",
    "df.duration = df.duration.abs().dt.days\n",
    "df.duration.head(10)"
   ]
  },
  {
   "cell_type": "code",
   "execution_count": 17,
   "metadata": {},
   "outputs": [
    {
     "data": {
      "text/plain": [
       "29       169171\n",
       "59        33623\n",
       "44        17749\n",
       "30        13261\n",
       "34        10099\n",
       "          ...  \n",
       "14732         1\n",
       "14760         1\n",
       "16738         1\n",
       "14866         1\n",
       "14834         1\n",
       "Name: duration, Length: 99, dtype: int64"
      ]
     },
     "execution_count": 17,
     "metadata": {},
     "output_type": "execute_result"
    }
   ],
   "source": [
    "df_duration = df[\"duration\"].value_counts()\n",
    "df_duration"
   ]
  },
  {
   "cell_type": "code",
   "execution_count": 19,
   "metadata": {},
   "outputs": [
    {
     "name": "stdout",
     "output_type": "stream",
     "text": [
      "<class 'pandas.core.frame.DataFrame'>\n",
      "RangeIndex: 378661 entries, 0 to 378660\n",
      "Data columns (total 17 columns):\n",
      "ID                   378661 non-null object\n",
      "name                 378661 non-null object\n",
      "category             378661 non-null object\n",
      "main_category        378661 non-null object\n",
      "currency             378661 non-null object\n",
      "deadline             378661 non-null datetime64[ns]\n",
      "goal                 378661 non-null float64\n",
      "launched             378661 non-null datetime64[ns]\n",
      "pledged              378661 non-null float64\n",
      "state                378661 non-null object\n",
      "backers              378661 non-null int64\n",
      "country              378661 non-null object\n",
      "usd pledged          374864 non-null float64\n",
      "usd_pledged_real     378661 non-null float64\n",
      "usd_goal_real        378661 non-null float64\n",
      "launched_week_day    378661 non-null object\n",
      "duration             378661 non-null int64\n",
      "dtypes: datetime64[ns](2), float64(5), int64(2), object(8)\n",
      "memory usage: 49.1+ MB\n"
     ]
    }
   ],
   "source": [
    "df.info()\n"
   ]
  },
  {
   "cell_type": "code",
   "execution_count": null,
   "metadata": {},
   "outputs": [],
   "source": []
  }
 ],
 "metadata": {
  "kernelspec": {
   "display_name": "Python 3",
   "language": "python",
   "name": "python3"
  },
  "language_info": {
   "codemirror_mode": {
    "name": "ipython",
    "version": 3
   },
   "file_extension": ".py",
   "mimetype": "text/x-python",
   "name": "python",
   "nbconvert_exporter": "python",
   "pygments_lexer": "ipython3",
   "version": "3.7.4"
  }
 },
 "nbformat": 4,
 "nbformat_minor": 2
}
